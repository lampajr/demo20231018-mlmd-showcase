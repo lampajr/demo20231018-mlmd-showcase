{
 "cells": [
  {
   "cell_type": "markdown",
   "id": "06952e52-017f-44c9-a94d-4cabdd771c95",
   "metadata": {},
   "source": [
    "## MLMD MetadataStore with gRPC Server\n",
    "Demo showing how to use MetadataStore with gRPC server without having to care about underlying gRPC requests/responses"
   ]
  },
  {
   "cell_type": "code",
   "execution_count": 1,
   "id": "cb35e367-bfea-4365-9306-0c20c1058dea",
   "metadata": {},
   "outputs": [],
   "source": [
    "from pprint import pprint\n",
    "\n",
    "import ml_metadata as mlmd\n",
    "from ml_metadata.metadata_store import metadata_store\n",
    "from ml_metadata.proto import metadata_store_pb2"
   ]
  },
  {
   "cell_type": "code",
   "execution_count": 2,
   "id": "d8b14807-1979-4314-887d-0c0bef2728e0",
   "metadata": {},
   "outputs": [],
   "source": [
    "# Setup client config\n",
    "client_connection_config = metadata_store_pb2.MetadataStoreClientConfig()\n",
    "client_connection_config.host = 'localhost'\n",
    "client_connection_config.port = 8080\n",
    "\n",
    "store = metadata_store.MetadataStore(client_connection_config)"
   ]
  },
  {
   "cell_type": "code",
   "execution_count": 3,
   "id": "6dcb94ef-0cbf-469c-9bad-2c76dc216ee8",
   "metadata": {},
   "outputs": [
    {
     "data": {
      "text/plain": [
       "10"
      ]
     },
     "execution_count": 3,
     "metadata": {},
     "output_type": "execute_result"
    }
   ],
   "source": [
    "# Create ArtifactTypes, e.g., DataSet\n",
    "data_type = metadata_store_pb2.ArtifactType()\n",
    "data_type.name = \"DataSet\"\n",
    "data_type.properties[\"day\"] = metadata_store_pb2.INT\n",
    "data_type.properties[\"split\"] = metadata_store_pb2.STRING\n",
    "data_type_id = store.put_artifact_type(data_type)\n",
    "data_type_id"
   ]
  },
  {
   "cell_type": "code",
   "execution_count": 4,
   "id": "0f4c3bf3-b863-44da-922f-0cda76a012b3",
   "metadata": {},
   "outputs": [
    {
     "data": {
      "text/plain": [
       "11"
      ]
     },
     "execution_count": 4,
     "metadata": {},
     "output_type": "execute_result"
    }
   ],
   "source": [
    "# Create ArtifactTypes, e.g.,SavedModel\n",
    "model_type = metadata_store_pb2.ArtifactType()\n",
    "model_type.name = \"SavedModel\"\n",
    "model_type.properties[\"version\"] = metadata_store_pb2.INT\n",
    "model_type.properties[\"name\"] = metadata_store_pb2.STRING\n",
    "model_type_id = store.put_artifact_type(model_type)\n",
    "model_type_id"
   ]
  },
  {
   "cell_type": "code",
   "execution_count": 5,
   "id": "5bfd278a-b77a-4fd4-a5e9-4a08122c97b2",
   "metadata": {},
   "outputs": [
    {
     "data": {
      "text/plain": [
       "12"
      ]
     },
     "execution_count": 5,
     "metadata": {},
     "output_type": "execute_result"
    }
   ],
   "source": [
    "# ModelVersion\n",
    "model_version_type = metadata_store_pb2.ContextType()\n",
    "model_version_type.name = \"odh.ModelVersion\"\n",
    "model_version_type.properties[\"model_name\"] = metadata_store_pb2.STRING\n",
    "model_version_type.properties[\"version\"] = metadata_store_pb2.STRING\n",
    "model_version_type_id = store.put_context_type(model_version_type)\n",
    "model_version_type_id"
   ]
  },
  {
   "cell_type": "code",
   "execution_count": 6,
   "id": "cede0b3d-51cb-403e-80c2-7255aa21d03a",
   "metadata": {},
   "outputs": [
    {
     "name": "stdout",
     "output_type": "stream",
     "text": [
      "[id: 10\n",
      "name: \"DataSet\"\n",
      "properties {\n",
      "  key: \"day\"\n",
      "  value: INT\n",
      "}\n",
      "properties {\n",
      "  key: \"split\"\n",
      "  value: STRING\n",
      "}\n",
      ",\n",
      " id: 11\n",
      "name: \"SavedModel\"\n",
      "properties {\n",
      "  key: \"name\"\n",
      "  value: STRING\n",
      "}\n",
      "properties {\n",
      "  key: \"version\"\n",
      "  value: INT\n",
      "}\n",
      "]\n"
     ]
    }
   ],
   "source": [
    "# Query all registered Artifact types.\n",
    "artifact_types = store.get_artifact_types()\n",
    "pprint(artifact_types)"
   ]
  },
  {
   "cell_type": "code",
   "execution_count": 7,
   "id": "b63e888b-8e7c-448c-9eb1-032385b94d77",
   "metadata": {},
   "outputs": [
    {
     "data": {
      "text/plain": [
       "13"
      ]
     },
     "execution_count": 7,
     "metadata": {},
     "output_type": "execute_result"
    }
   ],
   "source": [
    "# Create an ExecutionType, e.g., Trainer\n",
    "trainer_type = metadata_store_pb2.ExecutionType()\n",
    "trainer_type.name = \"Trainer\"\n",
    "trainer_type.properties[\"state\"] = metadata_store_pb2.STRING\n",
    "trainer_type_id = store.put_execution_type(trainer_type)\n",
    "trainer_type_id"
   ]
  },
  {
   "cell_type": "code",
   "execution_count": 8,
   "id": "79094630-1bfc-4793-99c2-7105f0fb7c36",
   "metadata": {},
   "outputs": [
    {
     "data": {
      "text/plain": [
       "id: 13\n",
       "name: \"Trainer\"\n",
       "properties {\n",
       "  key: \"state\"\n",
       "  value: STRING\n",
       "}"
      ]
     },
     "execution_count": 8,
     "metadata": {},
     "output_type": "execute_result"
    }
   ],
   "source": [
    "# Query a registered Execution type with the returned id\n",
    "[registered_type] = store.get_execution_types_by_id([trainer_type_id])\n",
    "registered_type"
   ]
  },
  {
   "cell_type": "code",
   "execution_count": 9,
   "id": "ed642c62-9799-4cfb-9e3d-5be37e266738",
   "metadata": {},
   "outputs": [
    {
     "data": {
      "text/plain": [
       "1"
      ]
     },
     "execution_count": 9,
     "metadata": {},
     "output_type": "execute_result"
    }
   ],
   "source": [
    "# Create an input artifact of type DataSet\n",
    "data_artifact = metadata_store_pb2.Artifact()\n",
    "data_artifact.uri = 'path/to/data'\n",
    "data_artifact.properties[\"day\"].int_value = 1\n",
    "data_artifact.properties[\"split\"].string_value = 'train'\n",
    "data_artifact.type_id = data_type_id\n",
    "[data_artifact_id] = store.put_artifacts([data_artifact])\n",
    "data_artifact_id"
   ]
  },
  {
   "cell_type": "code",
   "execution_count": 10,
   "id": "28d0f6da-7218-4f99-9538-ad02c20e9209",
   "metadata": {},
   "outputs": [
    {
     "name": "stdout",
     "output_type": "stream",
     "text": [
      "[id: 1\n",
      "type_id: 10\n",
      "uri: \"path/to/data\"\n",
      "properties {\n",
      "  key: \"day\"\n",
      "  value {\n",
      "    int_value: 1\n",
      "  }\n",
      "}\n",
      "properties {\n",
      "  key: \"split\"\n",
      "  value {\n",
      "    string_value: \"train\"\n",
      "  }\n",
      "}\n",
      "type: \"DataSet\"\n",
      "create_time_since_epoch: 1697710067140\n",
      "last_update_time_since_epoch: 1697710067140\n",
      "]\n"
     ]
    }
   ],
   "source": [
    "# Query all registered Artifacts\n",
    "artifacts = store.get_artifacts()\n",
    "pprint(artifacts)"
   ]
  },
  {
   "cell_type": "code",
   "execution_count": 11,
   "id": "06fc19b9-b7f0-400b-a53a-6df9866b0d14",
   "metadata": {},
   "outputs": [
    {
     "name": "stdout",
     "output_type": "stream",
     "text": [
      "[id: 1\n",
      "type_id: 10\n",
      "uri: \"path/to/data\"\n",
      "properties {\n",
      "  key: \"day\"\n",
      "  value {\n",
      "    int_value: 1\n",
      "  }\n",
      "}\n",
      "properties {\n",
      "  key: \"split\"\n",
      "  value {\n",
      "    string_value: \"train\"\n",
      "  }\n",
      "}\n",
      "type: \"DataSet\"\n",
      "create_time_since_epoch: 1697710067140\n",
      "last_update_time_since_epoch: 1697710067140\n",
      "]\n",
      "[id: 1\n",
      "type_id: 10\n",
      "uri: \"path/to/data\"\n",
      "properties {\n",
      "  key: \"day\"\n",
      "  value {\n",
      "    int_value: 1\n",
      "  }\n",
      "}\n",
      "properties {\n",
      "  key: \"split\"\n",
      "  value {\n",
      "    string_value: \"train\"\n",
      "  }\n",
      "}\n",
      "type: \"DataSet\"\n",
      "create_time_since_epoch: 1697710067140\n",
      "last_update_time_since_epoch: 1697710067140\n",
      "]\n"
     ]
    }
   ],
   "source": [
    "# Plus, there are many ways to query the same Artifact\n",
    "[stored_data_artifact] = store.get_artifacts_by_id([data_artifact_id])\n",
    "artifacts_with_uri = store.get_artifacts_by_uri(data_artifact.uri)\n",
    "pprint(artifacts_with_uri)\n",
    "\n",
    "artifacts_with_conditions = store.get_artifacts(\n",
    "      list_options=mlmd.ListOptions(\n",
    "          filter_query='uri LIKE \"%/data\" AND properties.day.int_value > 0'))\n",
    "pprint(artifacts_with_conditions)"
   ]
  },
  {
   "cell_type": "code",
   "execution_count": 12,
   "id": "ee048148-ae82-4f3e-9626-4af80973c5ba",
   "metadata": {},
   "outputs": [
    {
     "data": {
      "text/plain": [
       "1"
      ]
     },
     "execution_count": 12,
     "metadata": {},
     "output_type": "execute_result"
    }
   ],
   "source": [
    "# Register the Execution of a Trainer run\n",
    "trainer_run = metadata_store_pb2.Execution()\n",
    "trainer_run.type_id = trainer_type_id\n",
    "trainer_run.properties[\"state\"].string_value = \"RUNNING\"\n",
    "[run_id] = store.put_executions([trainer_run])\n",
    "run_id"
   ]
  },
  {
   "cell_type": "code",
   "execution_count": 13,
   "id": "a4c6380c-a209-4fc0-9389-261ec4bbc962",
   "metadata": {},
   "outputs": [
    {
     "name": "stdout",
     "output_type": "stream",
     "text": [
      "[id: 1\n",
      "type_id: 13\n",
      "properties {\n",
      "  key: \"state\"\n",
      "  value {\n",
      "    string_value: \"RUNNING\"\n",
      "  }\n",
      "}\n",
      "type: \"Trainer\"\n",
      "create_time_since_epoch: 1697710067190\n",
      "last_update_time_since_epoch: 1697710067190\n",
      "]\n",
      "[id: 1\n",
      "type_id: 13\n",
      "properties {\n",
      "  key: \"state\"\n",
      "  value {\n",
      "    string_value: \"RUNNING\"\n",
      "  }\n",
      "}\n",
      "type: \"Trainer\"\n",
      "create_time_since_epoch: 1697710067190\n",
      "last_update_time_since_epoch: 1697710067190\n",
      "]\n"
     ]
    }
   ],
   "source": [
    "# Query all registered Execution\n",
    "executions = store.get_executions_by_id([run_id])\n",
    "pprint(executions)\n",
    "\n",
    "# Similarly, the same execution can be queried with conditions.\n",
    "executions_with_conditions = store.get_executions(\n",
    "    list_options = mlmd.ListOptions(\n",
    "        filter_query='type = \"Trainer\" AND properties.state.string_value IS NOT NULL'))\n",
    "pprint(executions_with_conditions)"
   ]
  },
  {
   "cell_type": "code",
   "execution_count": 14,
   "id": "9f4e52bd-2fe7-400e-9302-4bcd78b9b071",
   "metadata": {},
   "outputs": [],
   "source": [
    "# Define the input event\n",
    "input_event = metadata_store_pb2.Event()\n",
    "input_event.artifact_id = data_artifact_id\n",
    "input_event.execution_id = run_id\n",
    "input_event.type = metadata_store_pb2.Event.DECLARED_INPUT\n",
    "\n",
    "# Record the input event in the metadata store\n",
    "store.put_events([input_event])"
   ]
  },
  {
   "cell_type": "code",
   "execution_count": 15,
   "id": "e208c95c-e3f2-4669-80b1-513807a1c998",
   "metadata": {},
   "outputs": [
    {
     "data": {
      "text/plain": [
       "2"
      ]
     },
     "execution_count": 15,
     "metadata": {},
     "output_type": "execute_result"
    }
   ],
   "source": [
    "# Declare the output artifact of type SavedModel\n",
    "model_artifact = metadata_store_pb2.Artifact()\n",
    "model_artifact.uri = 'path/to/model/file'\n",
    "model_artifact.properties[\"version\"].int_value = 1\n",
    "model_artifact.properties[\"name\"].string_value = 'MNIST-v1'\n",
    "model_artifact.type_id = model_type_id\n",
    "[model_artifact_id] = store.put_artifacts([model_artifact])\n",
    "model_artifact_id"
   ]
  },
  {
   "cell_type": "code",
   "execution_count": 16,
   "id": "4f635422-7416-40dc-9640-930b271f7475",
   "metadata": {},
   "outputs": [],
   "source": [
    "# Declare the output event\n",
    "output_event = metadata_store_pb2.Event()\n",
    "output_event.artifact_id = model_artifact_id\n",
    "output_event.execution_id = run_id\n",
    "output_event.type = metadata_store_pb2.Event.DECLARED_OUTPUT\n",
    "\n",
    "# Submit output event to the Metadata Store\n",
    "store.put_events([output_event])"
   ]
  },
  {
   "cell_type": "code",
   "execution_count": 17,
   "id": "068fc492-19bd-4d32-a0fc-0f6d98c6cb5c",
   "metadata": {},
   "outputs": [
    {
     "data": {
      "text/plain": [
       "[1]"
      ]
     },
     "execution_count": 17,
     "metadata": {},
     "output_type": "execute_result"
    }
   ],
   "source": [
    "trainer_run.id = run_id\n",
    "trainer_run.properties[\"state\"].string_value = \"COMPLETED\"\n",
    "store.put_executions([trainer_run])"
   ]
  },
  {
   "cell_type": "code",
   "execution_count": 18,
   "id": "fc7026df-1e32-49a2-8d81-fe02b23dba58",
   "metadata": {},
   "outputs": [],
   "source": [
    "# Create a ContextType, e.g., Experiment with a note property\n",
    "experiment_type = metadata_store_pb2.ContextType()\n",
    "experiment_type.name = \"Experiment\"\n",
    "experiment_type.properties[\"note\"] = metadata_store_pb2.STRING\n",
    "experiment_type_id = store.put_context_type(experiment_type)\n",
    "\n",
    "# Group the model and the trainer run to an experiment.\n",
    "my_experiment = metadata_store_pb2.Context()\n",
    "my_experiment.type_id = experiment_type_id\n",
    "# Give the experiment a name\n",
    "my_experiment.name = \"exp1\"\n",
    "my_experiment.properties[\"note\"].string_value = \"My first experiment.\"\n",
    "[experiment_id] = store.put_contexts([my_experiment])\n",
    "\n",
    "attribution = metadata_store_pb2.Attribution()\n",
    "attribution.artifact_id = model_artifact_id\n",
    "attribution.context_id = experiment_id\n",
    "\n",
    "association = metadata_store_pb2.Association()\n",
    "association.execution_id = run_id\n",
    "association.context_id = experiment_id\n",
    "\n",
    "store.put_attributions_and_associations([attribution], [association])\n",
    "\n",
    "# Query the Artifacts and Executions that are linked to the Context.\n",
    "experiment_artifacts = store.get_artifacts_by_context(experiment_id)\n",
    "experiment_executions = store.get_executions_by_context(experiment_id)\n",
    "\n",
    "# You can also use neighborhood queries to fetch these artifacts and executions\n",
    "# with conditions.\n",
    "experiment_artifacts_with_conditions = store.get_artifacts(\n",
    "    list_options = mlmd.ListOptions(\n",
    "        filter_query=('contexts_a.type = \"Experiment\" AND contexts_a.name = \"exp1\"')))\n",
    "experiment_executions_with_conditions = store.get_executions(\n",
    "    list_options = mlmd.ListOptions(\n",
    "        filter_query=('contexts_a.id = {}'.format(experiment_id))))"
   ]
  },
  {
   "cell_type": "code",
   "execution_count": 19,
   "id": "b67c391e-4037-4f95-a0c4-12486ffe47c9",
   "metadata": {},
   "outputs": [
    {
     "name": "stdout",
     "output_type": "stream",
     "text": [
      "[id: 1\n",
      "type_id: 13\n",
      "properties {\n",
      "  key: \"state\"\n",
      "  value {\n",
      "    string_value: \"COMPLETED\"\n",
      "  }\n",
      "}\n",
      "type: \"Trainer\"\n",
      "create_time_since_epoch: 1697710067190\n",
      "last_update_time_since_epoch: 1697710067301\n",
      "]\n"
     ]
    }
   ],
   "source": [
    "pprint(experiment_executions_with_conditions)"
   ]
  }
 ],
 "metadata": {
  "kernelspec": {
   "display_name": "Python 3 (ipykernel)",
   "language": "python",
   "name": "python3"
  },
  "language_info": {
   "codemirror_mode": {
    "name": "ipython",
    "version": 3
   },
   "file_extension": ".py",
   "mimetype": "text/x-python",
   "name": "python",
   "nbconvert_exporter": "python",
   "pygments_lexer": "ipython3",
   "version": "3.9.18"
  }
 },
 "nbformat": 4,
 "nbformat_minor": 5
}
